{
 "cells": [
  {
   "cell_type": "markdown",
   "id": "a82693e9-cc57-45ec-b46a-e6ec2027aa75",
   "metadata": {},
   "source": [
    "# Data Science Course for Scientist and Engineers: Final Report"
   ]
  },
  {
   "cell_type": "markdown",
   "id": "b82ce692-f54e-4087-a8ec-1aed11467146",
   "metadata": {},
   "source": [
    "Ideas: \n",
    "\n"
   ]
  }
 ],
 "metadata": {
  "kernelspec": {
   "display_name": "Python 3 (ipykernel)",
   "language": "python",
   "name": "python3"
  },
  "language_info": {
   "codemirror_mode": {
    "name": "ipython",
    "version": 3
   },
   "file_extension": ".py",
   "mimetype": "text/x-python",
   "name": "python",
   "nbconvert_exporter": "python",
   "pygments_lexer": "ipython3",
   "version": "3.11.6"
  }
 },
 "nbformat": 4,
 "nbformat_minor": 5
}
