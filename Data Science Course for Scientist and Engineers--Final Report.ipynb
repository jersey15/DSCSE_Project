{
 "cells": [
  {
   "cell_type": "markdown",
   "id": "a82693e9-cc57-45ec-b46a-e6ec2027aa75",
   "metadata": {},
   "source": [
    "# Data Science Course for Scientist and Engineers: Final Report"
   ]
  },
  {
   "cell_type": "markdown",
   "id": "b82ce692-f54e-4087-a8ec-1aed11467146",
   "metadata": {},
   "source": [
    "Ideas: \n",
    "\n",
    "1. Assume a service that stores every user input for fine-tuning or retraining (What kind of difference can we observe?) of the ML model and reproduce the following paper: https://dl.acm.org/doi/abs/10.1145/3548606.3560554 \n",
    "    - SPAM or Phishing Application\n",
    "    - How realistic is this assumption of using user input for retraining or fine-tuning?\n",
    "\n"
   ]
  },
  {
   "cell_type": "markdown",
   "id": "a885aa8a-5d96-49e7-b27a-7eecf47226b6",
   "metadata": {},
   "source": [
    "2. Statistical drift in practice?\n",
    "    - Which consequences do we experience?\n",
    "    - Can an end-user cause a statistical drift?"
   ]
  },
  {
   "cell_type": "markdown",
   "id": "0fd41bc3-d787-433e-8b21-a9319bfb4c02",
   "metadata": {},
   "source": [
    "3. Run Membership Inference Attacks on small LLMs (Text) and Diffusion Models (Image) shown in https://arxiv.org/pdf/2311.17035.pdf and https://www.usenix.org/conference/usenixsecurity23/presentation/carlini, respectively  \n",
    "   - Choose LLMs and Diffusion Models from HuggingFace with publicly available datasets"
   ]
  },
  {
   "cell_type": "code",
   "execution_count": null,
   "id": "a60c3fee-32b8-463d-a65f-334ebb59e676",
   "metadata": {},
   "outputs": [],
   "source": []
  }
 ],
 "metadata": {
  "kernelspec": {
   "display_name": "Python 3 (ipykernel)",
   "language": "python",
   "name": "python3"
  },
  "language_info": {
   "codemirror_mode": {
    "name": "ipython",
    "version": 3
   },
   "file_extension": ".py",
   "mimetype": "text/x-python",
   "name": "python",
   "nbconvert_exporter": "python",
   "pygments_lexer": "ipython3",
   "version": "3.11.6"
  }
 },
 "nbformat": 4,
 "nbformat_minor": 5
}
